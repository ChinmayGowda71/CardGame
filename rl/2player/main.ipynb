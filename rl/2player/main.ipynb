{
 "cells": [
  {
   "cell_type": "code",
   "execution_count": 6,
   "metadata": {},
   "outputs": [],
   "source": [
    "from network import Model\n",
    "from game import Game\n",
    "from train import PPOTrainer\n",
    "from player import NNAgent, EVAgent\n",
    "\n",
    "import matplotlib.pyplot as plt\n",
    "import numpy as np\n",
    "import torch"
   ]
  },
  {
   "cell_type": "code",
   "execution_count": 7,
   "metadata": {},
   "outputs": [],
   "source": [
    "NUM_GAMES = 2000\n",
    "NUM_TRIALS = 1000\n",
    "DEVICE = 'cpu'\n",
    "\n",
    "trained_results = []\n",
    "non_trained_results = []\n",
    "input_space = 10\n",
    "win_threshold = .55\n",
    "\n",
    "action_space = list(range(3, 19)) #place a bid, place an ask\n",
    "train_model = Model(input_space, len(action_space))\n",
    "# train_model.load_state_dict(torch.load('training_against_ev.pth')) \n",
    "prev_best = Model(input_space, len(action_space))\n",
    "# prev_best.load_state_dict(torch.load('beats_ev.pth')) \n",
    "trainer = PPOTrainer(train_model, policy_lr=1e-4, value_lr=1e-3)\n",
    "win_history = []"
   ]
  },
  {
   "cell_type": "code",
   "execution_count": 8,
   "metadata": {},
   "outputs": [],
   "source": [
    "def count_parameters(model):\n",
    "    return sum(p.numel() for p in model.parameters() if p.requires_grad)"
   ]
  },
  {
   "cell_type": "code",
   "execution_count": 9,
   "metadata": {},
   "outputs": [
    {
     "data": {
      "text/plain": [
       "215889"
      ]
     },
     "execution_count": 9,
     "metadata": {},
     "output_type": "execute_result"
    }
   ],
   "source": [
    "count_parameters(train_model)"
   ]
  },
  {
   "cell_type": "code",
   "execution_count": 10,
   "metadata": {},
   "outputs": [
    {
     "name": "stdout",
     "output_type": "stream",
     "text": [
      "TRIAL 1\n"
     ]
    },
    {
     "name": "stderr",
     "output_type": "stream",
     "text": [
      "Training policy net:  59%|█████▉    | 47/80 [01:15<00:52,  1.61s/it]\n",
      "Training value net: 100%|██████████| 80/80 [00:29<00:00,  2.69it/s]\n"
     ]
    },
    {
     "name": "stdout",
     "output_type": "stream",
     "text": [
      "Trained model won 33.01069791136016% of the games\n",
      "TRIAL 2\n"
     ]
    },
    {
     "name": "stderr",
     "output_type": "stream",
     "text": [
      "Training policy net:  32%|███▎      | 26/80 [00:31<01:04,  1.19s/it]\n",
      "Training value net: 100%|██████████| 80/80 [00:30<00:00,  2.61it/s]\n"
     ]
    },
    {
     "name": "stdout",
     "output_type": "stream",
     "text": [
      "Trained model won 36.60030627871363% of the games\n",
      "TRIAL 3\n"
     ]
    },
    {
     "name": "stderr",
     "output_type": "stream",
     "text": [
      "Training policy net:  12%|█▎        | 10/80 [00:11<01:19,  1.14s/it]\n",
      "Training value net: 100%|██████████| 80/80 [00:30<00:00,  2.62it/s]\n"
     ]
    },
    {
     "name": "stdout",
     "output_type": "stream",
     "text": [
      "Trained model won 37.05017739483021% of the games\n",
      "TRIAL 4\n"
     ]
    },
    {
     "name": "stderr",
     "output_type": "stream",
     "text": [
      "Training policy net:   9%|▉         | 7/80 [00:09<01:36,  1.32s/it]\n",
      "Training value net: 100%|██████████| 80/80 [00:31<00:00,  2.52it/s]\n"
     ]
    },
    {
     "name": "stdout",
     "output_type": "stream",
     "text": [
      "Trained model won 38.24884792626728% of the games\n",
      "TRIAL 5\n"
     ]
    },
    {
     "name": "stderr",
     "output_type": "stream",
     "text": [
      "Training policy net:   8%|▊         | 6/80 [00:07<01:38,  1.33s/it]\n",
      "Training value net: 100%|██████████| 80/80 [00:30<00:00,  2.61it/s]\n"
     ]
    },
    {
     "name": "stdout",
     "output_type": "stream",
     "text": [
      "Trained model won 34.82460599898322% of the games\n",
      "TRIAL 6\n"
     ]
    },
    {
     "name": "stderr",
     "output_type": "stream",
     "text": [
      "Training policy net:  28%|██▊       | 22/80 [00:22<01:00,  1.04s/it]\n",
      "Training value net: 100%|██████████| 80/80 [00:30<00:00,  2.64it/s]\n"
     ]
    },
    {
     "name": "stdout",
     "output_type": "stream",
     "text": [
      "Trained model won 34.14758269720102% of the games\n",
      "TRIAL 7\n"
     ]
    },
    {
     "name": "stderr",
     "output_type": "stream",
     "text": [
      "Training policy net:  18%|█▊        | 14/80 [00:16<01:19,  1.21s/it]\n",
      "Training value net: 100%|██████████| 80/80 [00:31<00:00,  2.51it/s]\n"
     ]
    },
    {
     "name": "stdout",
     "output_type": "stream",
     "text": [
      "Trained model won 38.36734693877551% of the games\n",
      "TRIAL 8\n"
     ]
    },
    {
     "name": "stderr",
     "output_type": "stream",
     "text": [
      "Training policy net:   9%|▉         | 7/80 [00:09<01:41,  1.40s/it]\n",
      "Training value net: 100%|██████████| 80/80 [00:33<00:00,  2.39it/s]\n"
     ]
    },
    {
     "name": "stdout",
     "output_type": "stream",
     "text": [
      "Trained model won 36.082995951417004% of the games\n",
      "TRIAL 9\n"
     ]
    },
    {
     "name": "stderr",
     "output_type": "stream",
     "text": [
      "Training policy net:   6%|▋         | 5/80 [00:06<01:38,  1.31s/it]\n",
      "Training value net: 100%|██████████| 80/80 [00:33<00:00,  2.40it/s]\n"
     ]
    },
    {
     "name": "stdout",
     "output_type": "stream",
     "text": [
      "Trained model won 37.81426372498717% of the games\n",
      "TRIAL 10\n"
     ]
    },
    {
     "name": "stderr",
     "output_type": "stream",
     "text": [
      "Training policy net:   5%|▌         | 4/80 [00:06<01:57,  1.55s/it]\n",
      "Training value net: 100%|██████████| 80/80 [00:33<00:00,  2.40it/s]\n"
     ]
    },
    {
     "name": "stdout",
     "output_type": "stream",
     "text": [
      "Trained model won 38.17533129459735% of the games\n",
      "TRIAL 11\n"
     ]
    },
    {
     "name": "stderr",
     "output_type": "stream",
     "text": [
      "Training policy net:   5%|▌         | 4/80 [00:05<01:46,  1.40s/it]\n",
      "Training value net: 100%|██████████| 80/80 [00:32<00:00,  2.49it/s]\n"
     ]
    },
    {
     "name": "stdout",
     "output_type": "stream",
     "text": [
      "Trained model won 38.339313172731934% of the games\n",
      "TRIAL 12\n"
     ]
    },
    {
     "name": "stderr",
     "output_type": "stream",
     "text": [
      "Training policy net:   5%|▌         | 4/80 [00:11<03:33,  2.81s/it]\n",
      "Training value net: 100%|██████████| 80/80 [00:44<00:00,  1.79it/s]\n"
     ]
    },
    {
     "name": "stdout",
     "output_type": "stream",
     "text": [
      "Trained model won 37.150127226463106% of the games\n",
      "TRIAL 13\n"
     ]
    },
    {
     "name": "stderr",
     "output_type": "stream",
     "text": [
      "Training policy net:   4%|▍         | 3/80 [00:09<04:09,  3.24s/it]\n",
      "Training value net: 100%|██████████| 80/80 [00:27<00:00,  2.91it/s]\n"
     ]
    },
    {
     "name": "stdout",
     "output_type": "stream",
     "text": [
      "Trained model won 38.888888888888886% of the games\n",
      "TRIAL 14\n"
     ]
    },
    {
     "name": "stderr",
     "output_type": "stream",
     "text": [
      "Training policy net:   4%|▍         | 3/80 [00:04<01:58,  1.54s/it]\n",
      "Training value net: 100%|██████████| 80/80 [00:30<00:00,  2.62it/s]\n"
     ]
    },
    {
     "name": "stdout",
     "output_type": "stream",
     "text": [
      "Trained model won 38.57658586900464% of the games\n",
      "TRIAL 15\n"
     ]
    },
    {
     "name": "stderr",
     "output_type": "stream",
     "text": [
      "Training policy net:   4%|▍         | 3/80 [00:04<02:00,  1.56s/it]\n",
      "Training value net: 100%|██████████| 80/80 [00:30<00:00,  2.64it/s]\n"
     ]
    },
    {
     "name": "stdout",
     "output_type": "stream",
     "text": [
      "Trained model won 40.706605222734254% of the games\n",
      "TRIAL 16\n"
     ]
    },
    {
     "name": "stderr",
     "output_type": "stream",
     "text": [
      "Training policy net:   4%|▍         | 3/80 [00:06<02:41,  2.10s/it]\n",
      "Training value net: 100%|██████████| 80/80 [00:37<00:00,  2.14it/s]\n"
     ]
    },
    {
     "name": "stdout",
     "output_type": "stream",
     "text": [
      "Trained model won 34.695963208993355% of the games\n",
      "TRIAL 17\n"
     ]
    },
    {
     "name": "stderr",
     "output_type": "stream",
     "text": [
      "Training policy net:  60%|██████    | 48/80 [01:02<00:41,  1.31s/it]\n",
      "Training value net: 100%|██████████| 80/80 [00:40<00:00,  1.99it/s]\n"
     ]
    },
    {
     "name": "stdout",
     "output_type": "stream",
     "text": [
      "Trained model won 37.086092715231786% of the games\n",
      "TRIAL 18\n"
     ]
    },
    {
     "name": "stderr",
     "output_type": "stream",
     "text": [
      "Training policy net:  18%|█▊        | 14/80 [00:40<03:10,  2.89s/it]\n",
      "Training value net: 100%|██████████| 80/80 [00:44<00:00,  1.78it/s]\n"
     ]
    },
    {
     "name": "stdout",
     "output_type": "stream",
     "text": [
      "Trained model won 35.57594291539246% of the games\n",
      "TRIAL 19\n"
     ]
    },
    {
     "name": "stderr",
     "output_type": "stream",
     "text": [
      "Training policy net:  16%|█▋        | 13/80 [00:38<03:18,  2.96s/it]\n",
      "Training value net: 100%|██████████| 80/80 [00:47<00:00,  1.68it/s]\n"
     ]
    },
    {
     "name": "stdout",
     "output_type": "stream",
     "text": [
      "Trained model won 36.724313326551375% of the games\n",
      "TRIAL 20\n"
     ]
    },
    {
     "name": "stderr",
     "output_type": "stream",
     "text": [
      "Training policy net:  12%|█▎        | 10/80 [00:30<03:30,  3.00s/it]\n",
      "Training value net: 100%|██████████| 80/80 [00:49<00:00,  1.62it/s]\n"
     ]
    },
    {
     "name": "stdout",
     "output_type": "stream",
     "text": [
      "Trained model won 35.786802030456855% of the games\n",
      "TRIAL 21\n"
     ]
    },
    {
     "name": "stderr",
     "output_type": "stream",
     "text": [
      "Training policy net:  11%|█▏        | 9/80 [00:27<03:38,  3.08s/it]\n",
      "Training value net: 100%|██████████| 80/80 [00:49<00:00,  1.63it/s]\n"
     ]
    },
    {
     "name": "stdout",
     "output_type": "stream",
     "text": [
      "Trained model won 38.0539989811513% of the games\n",
      "TRIAL 22\n"
     ]
    },
    {
     "ename": "KeyboardInterrupt",
     "evalue": "",
     "output_type": "error",
     "traceback": [
      "\u001b[1;31m---------------------------------------------------------------------------\u001b[0m",
      "\u001b[1;31mKeyboardInterrupt\u001b[0m                         Traceback (most recent call last)",
      "Cell \u001b[1;32mIn[10], line 15\u001b[0m\n\u001b[0;32m     13\u001b[0m \u001b[38;5;66;03m# p2 = EVAgent()\u001b[39;00m\n\u001b[0;32m     14\u001b[0m game \u001b[38;5;241m=\u001b[39m Game(p1, p2)\n\u001b[1;32m---> 15\u001b[0m data \u001b[38;5;241m=\u001b[39m \u001b[43mgame\u001b[49m\u001b[38;5;241;43m.\u001b[39;49m\u001b[43mplay\u001b[49m\u001b[43m(\u001b[49m\u001b[43m)\u001b[49m\n\u001b[0;32m     16\u001b[0m \u001b[38;5;28;01mfor\u001b[39;00m i \u001b[38;5;129;01min\u001b[39;00m \u001b[38;5;28mrange\u001b[39m(\u001b[38;5;28mlen\u001b[39m(training_data)):\n\u001b[0;32m     17\u001b[0m     training_data[i] \u001b[38;5;241m=\u001b[39m np\u001b[38;5;241m.\u001b[39mappend(training_data[i], data[i], axis\u001b[38;5;241m=\u001b[39m\u001b[38;5;241m0\u001b[39m)\n",
      "File \u001b[1;32mc:\\Users\\reach\\code\\CardGame\\rl\\2player\\game.py:69\u001b[0m, in \u001b[0;36mGame.play\u001b[1;34m(self)\u001b[0m\n\u001b[0;32m     67\u001b[0m \u001b[38;5;28;01mfor\u001b[39;00m p, player \u001b[38;5;129;01min\u001b[39;00m \u001b[38;5;28menumerate\u001b[39m(\u001b[38;5;28mself\u001b[39m\u001b[38;5;241m.\u001b[39mplayers):\n\u001b[0;32m     68\u001b[0m     bid_state, bid, bid_pred_value, bid_act_log_prob, bid_adj \u001b[38;5;241m=\u001b[39m player\u001b[38;5;241m.\u001b[39mplay(\u001b[38;5;28mself\u001b[39m\u001b[38;5;241m.\u001b[39mencode_market_for_player(p), bid\u001b[38;5;241m=\u001b[39m\u001b[38;5;28;01mTrue\u001b[39;00m, \u001b[38;5;28mround\u001b[39m\u001b[38;5;241m=\u001b[39mr)\n\u001b[1;32m---> 69\u001b[0m     ask_state, ask, ask_pred_value, ask_act_log_prob, ask_adj \u001b[38;5;241m=\u001b[39m \u001b[43mplayer\u001b[49m\u001b[38;5;241;43m.\u001b[39;49m\u001b[43mplay\u001b[49m\u001b[43m(\u001b[49m\u001b[38;5;28;43mself\u001b[39;49m\u001b[38;5;241;43m.\u001b[39;49m\u001b[43mencode_market_for_player\u001b[49m\u001b[43m(\u001b[49m\u001b[43mp\u001b[49m\u001b[43m)\u001b[49m\u001b[43m,\u001b[49m\u001b[43m \u001b[49m\u001b[43mbid\u001b[49m\u001b[38;5;241;43m=\u001b[39;49m\u001b[38;5;28;43;01mFalse\u001b[39;49;00m\u001b[43m,\u001b[49m\u001b[43m \u001b[49m\u001b[43mbid_val\u001b[49m\u001b[38;5;241;43m=\u001b[39;49m\u001b[43mbid\u001b[49m\u001b[43m,\u001b[49m\u001b[43m \u001b[49m\u001b[38;5;28;43mround\u001b[39;49m\u001b[38;5;241;43m=\u001b[39;49m\u001b[43mr\u001b[49m\u001b[43m)\u001b[49m\n\u001b[0;32m     70\u001b[0m     \u001b[38;5;28;01mif\u001b[39;00m player\u001b[38;5;241m.\u001b[39mtrainable:\n\u001b[0;32m     71\u001b[0m         bid_info[p] \u001b[38;5;241m=\u001b[39m [bid_state, bid, bid_pred_value, bid_act_log_prob]\n",
      "File \u001b[1;32mc:\\Users\\reach\\code\\CardGame\\rl\\2player\\player.py:41\u001b[0m, in \u001b[0;36mNNAgent.play\u001b[1;34m(self, market_state, bid, bid_val, round)\u001b[0m\n\u001b[0;32m     39\u001b[0m state \u001b[38;5;241m=\u001b[39m np\u001b[38;5;241m.\u001b[39marray(\u001b[38;5;28msuper\u001b[39m()\u001b[38;5;241m.\u001b[39mencode_state() \u001b[38;5;241m+\u001b[39m market_state \u001b[38;5;241m+\u001b[39m ([\u001b[38;5;241m1\u001b[39m, \u001b[38;5;241m0\u001b[39m] \u001b[38;5;28;01mif\u001b[39;00m bid \u001b[38;5;28;01melse\u001b[39;00m [\u001b[38;5;241m0\u001b[39m, bid_val]), dtype\u001b[38;5;241m=\u001b[39mnp\u001b[38;5;241m.\u001b[39mfloat32)\n\u001b[0;32m     40\u001b[0m dist, value \u001b[38;5;241m=\u001b[39m \u001b[38;5;28mself\u001b[39m\u001b[38;5;241m.\u001b[39minference(state)\n\u001b[1;32m---> 41\u001b[0m move \u001b[38;5;241m=\u001b[39m \u001b[43mdist\u001b[49m\u001b[38;5;241;43m.\u001b[39;49m\u001b[43msample\u001b[49m\u001b[43m(\u001b[49m\u001b[43m)\u001b[49m\n\u001b[0;32m     42\u001b[0m \u001b[38;5;28;01mreturn\u001b[39;00m state, move\u001b[38;5;241m.\u001b[39mitem(), value, dist\u001b[38;5;241m.\u001b[39mlog_prob(move)\u001b[38;5;241m.\u001b[39mitem(), \u001b[38;5;28;01mFalse\u001b[39;00m\n",
      "File \u001b[1;32mc:\\Users\\reach\\AppData\\Local\\Programs\\Python\\Python310\\lib\\site-packages\\torch\\distributions\\categorical.py:118\u001b[0m, in \u001b[0;36mCategorical.sample\u001b[1;34m(self, sample_shape)\u001b[0m\n\u001b[0;32m    116\u001b[0m     sample_shape \u001b[38;5;241m=\u001b[39m torch\u001b[38;5;241m.\u001b[39mSize(sample_shape)\n\u001b[0;32m    117\u001b[0m probs_2d \u001b[38;5;241m=\u001b[39m \u001b[38;5;28mself\u001b[39m\u001b[38;5;241m.\u001b[39mprobs\u001b[38;5;241m.\u001b[39mreshape(\u001b[38;5;241m-\u001b[39m\u001b[38;5;241m1\u001b[39m, \u001b[38;5;28mself\u001b[39m\u001b[38;5;241m.\u001b[39m_num_events)\n\u001b[1;32m--> 118\u001b[0m samples_2d \u001b[38;5;241m=\u001b[39m \u001b[43mtorch\u001b[49m\u001b[38;5;241;43m.\u001b[39;49m\u001b[43mmultinomial\u001b[49m\u001b[43m(\u001b[49m\u001b[43mprobs_2d\u001b[49m\u001b[43m,\u001b[49m\u001b[43m \u001b[49m\u001b[43msample_shape\u001b[49m\u001b[38;5;241;43m.\u001b[39;49m\u001b[43mnumel\u001b[49m\u001b[43m(\u001b[49m\u001b[43m)\u001b[49m\u001b[43m,\u001b[49m\u001b[43m \u001b[49m\u001b[38;5;28;43;01mTrue\u001b[39;49;00m\u001b[43m)\u001b[49m\u001b[38;5;241m.\u001b[39mT\n\u001b[0;32m    119\u001b[0m \u001b[38;5;28;01mreturn\u001b[39;00m samples_2d\u001b[38;5;241m.\u001b[39mreshape(\u001b[38;5;28mself\u001b[39m\u001b[38;5;241m.\u001b[39m_extended_shape(sample_shape))\n",
      "\u001b[1;31mKeyboardInterrupt\u001b[0m: "
     ]
    }
   ],
   "source": [
    "import copy\n",
    "beat_ev = False\n",
    "\n",
    "for trial in range(NUM_TRIALS):\n",
    "\n",
    "    # Self play\n",
    "    training_data = [np.empty((0, 10)), np.empty(0,), np.empty(0,), np.empty(0,), np.empty(0,)]\n",
    "    print(f'TRIAL {trial + 1}')\n",
    "    for _ in range(NUM_GAMES):\n",
    "        # print(f'GAME {_ + 1}')\n",
    "        p1 = NNAgent(train_model)\n",
    "        p2 = NNAgent(train_model)\n",
    "        # p2 = EVAgent()\n",
    "        game = Game(p1, p2)\n",
    "        data = game.play()\n",
    "        for i in range(len(training_data)):\n",
    "            training_data[i] = np.append(training_data[i], data[i], axis=0)\n",
    "            # print(f'Player {i}: {profit}')\n",
    "\n",
    "    permute_idxs = np.random.permutation(len(training_data[0]))[:2048]\n",
    "\n",
    "    # Policy data\n",
    "    obs = torch.tensor(training_data[0][permute_idxs], dtype=torch.float32, device=DEVICE)\n",
    "    acts = torch.tensor(training_data[1][permute_idxs], dtype=torch.int32, device=DEVICE)\n",
    "    advantages = torch.tensor(training_data[3][permute_idxs], dtype=torch.float32, device=DEVICE)\n",
    "    act_log_probs = torch.tensor(training_data[4][permute_idxs], dtype=torch.float32, device=DEVICE)\n",
    "\n",
    "    # Value data\n",
    "    returns = torch.tensor(training_data[2], dtype=torch.float32, device=DEVICE)\n",
    "\n",
    "    # Train\n",
    "    trainer.train_policy(obs, acts, act_log_probs, advantages)\n",
    "    trainer.train_value(obs, returns)\n",
    "\n",
    "    # Play previous benchmark\n",
    "    win_count = 0\n",
    "    loss_count = 0\n",
    "    for _ in range(NUM_GAMES):\n",
    "        p1 = NNAgent(train_model)\n",
    "        # if beat_ev:\n",
    "        #     p2 = NNAgent(prev_best)\n",
    "        # else:\n",
    "        #     p2 = EVAgent()\n",
    "        p2 = EVAgent()\n",
    "        game = Game(p1, p2)\n",
    "        game.play()\n",
    "        if p1.final_profit(game.cards_sum) > p2.final_profit(game.cards_sum):\n",
    "            win_count += 1\n",
    "        elif p1.final_profit(game.cards_sum) < p2.final_profit(game.cards_sum):\n",
    "            loss_count += 1\n",
    "        else:\n",
    "            if abs(p1.state['card'] - 5.5) < abs(p2.state['card'] - 5.5): # i have a worse card\n",
    "                win_count += 1\n",
    "            elif abs(p1.state['card'] - 5.5) > abs(p2.state['card'] - 5.5):\n",
    "                loss_count += 1\n",
    "    \n",
    "    print(f'Trained model won {win_count * 100 / (win_count + loss_count)}% of the games')\n",
    "    if win_count / (win_count + loss_count) >= win_threshold:\n",
    "        state_dict = copy.deepcopy(train_model.state_dict())\n",
    "        prev_best = Model(input_space, len(action_space))\n",
    "        prev_best.load_state_dict(state_dict)\n",
    "        beat_ev = True\n",
    "    win_history.append(win_count * 100 / (win_count + loss_count))"
   ]
  },
  {
   "cell_type": "code",
   "execution_count": 11,
   "metadata": {},
   "outputs": [],
   "source": [
    "torch.save(train_model.state_dict(), 'training_against_ev.pth')"
   ]
  },
  {
   "cell_type": "code",
   "execution_count": null,
   "metadata": {},
   "outputs": [
    {
     "name": "stdout",
     "output_type": "stream",
     "text": [
      "Trained model won 51.13464447806354% of the games\n"
     ]
    }
   ],
   "source": [
    "win_count = 0\n",
    "loss_count = 0\n",
    "for _ in range(NUM_GAMES * 20):\n",
    "    p1 = NNAgent(prev_best)\n",
    "    p2 = EVAgent()\n",
    "    game = Game(p1, p2)\n",
    "    game.play(train=False)\n",
    "    if p1.final_profit(game.cards_sum) > p2.final_profit(game.cards_sum):\n",
    "        win_count += 1\n",
    "    elif game.players[0].final_profit(game.cards_sum) < game.players[1].final_profit(game.cards_sum):\n",
    "        loss_count += 1\n",
    "    else:\n",
    "        if abs(p1.state['card'] - 5.5) < abs(p2.state['card'] - 5.5): # i have a worse card\n",
    "            win_count += 1\n",
    "        elif abs(p1.state['card'] - 5.5) > abs(p2.state['card'] - 5.5):\n",
    "            loss_count += 1\n",
    "\n",
    "print(f'Trained model won {win_count * 100 / (win_count + loss_count)}% of the games')"
   ]
  },
  {
   "cell_type": "code",
   "execution_count": null,
   "metadata": {},
   "outputs": [
    {
     "data": {
      "image/png": "[encoded data removed]",
      "text/plain": [
       "<Figure size 640x480 with 1 Axes>"
      ]
     },
     "metadata": {},
     "output_type": "display_data"
    }
   ],
   "source": [
    "import matplotlib.pyplot as plt\n",
    "\n",
    "plt.plot(win_history)\n",
    "plt.plot([55] * len(win_history))\n",
    "plt.show()"
   ]
  }
 ],
 "metadata": {
  "kernelspec": {
   "display_name": "Python 3",
   "language": "python",
   "name": "python3"
  },
  "language_info": {
   "codemirror_mode": {
    "name": "ipython",
    "version": 3
   },
   "file_extension": ".py",
   "mimetype": "text/x-python",
   "name": "python",
   "nbconvert_exporter": "python",
   "pygments_lexer": "ipython3",
   "version": "3.10.4"
  }
 },
 "nbformat": 4,
 "nbformat_minor": 2
}
